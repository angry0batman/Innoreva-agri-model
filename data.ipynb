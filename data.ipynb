{
 "cells": [
  {
   "cell_type": "code",
   "execution_count": 6,
   "metadata": {},
   "outputs": [
    {
     "data": {
      "text/plain": [
       "['fertilizer_encoder.pkl']"
      ]
     },
     "execution_count": 6,
     "metadata": {},
     "output_type": "execute_result"
    }
   ],
   "source": [
    "import pandas as pd\n",
    "from sklearn.model_selection import train_test_split\n",
    "from sklearn.compose import ColumnTransformer\n",
    "from sklearn.pipeline import Pipeline\n",
    "from sklearn.preprocessing import StandardScaler, OneHotEncoder\n",
    "from sklearn.multioutput import MultiOutputRegressor\n",
    "from sklearn.ensemble import RandomForestRegressor\n",
    "import joblib\n",
    "import numpy as np\n",
    "\n",
    "\n",
    "df = pd.read_csv('soil_data.csv')\n",
    "\n",
    "\n",
    "X = df[['N', 'P', 'K', 'pH', 'Moisture', 'Temperature']]\n",
    "y_crop = df['Recommended Crop']\n",
    "y_fertilizer = df['Recommended Fertilizer & Quantity']\n",
    "y_yield = df['Predicted Yield']\n",
    "\n",
    "\n",
    "crop_encoder = OneHotEncoder()\n",
    "fertilizer_encoder = OneHotEncoder()\n",
    "\n",
    "y_crop_encoded = crop_encoder.fit_transform(y_crop.values.reshape(-1, 1)).toarray()\n",
    "y_fertilizer_encoded = fertilizer_encoder.fit_transform(y_fertilizer.values.reshape(-1, 1)).toarray()\n",
    "\n",
    "\n",
    "y_combined = np.concatenate([y_crop_encoded, y_fertilizer_encoded, y_yield.values.reshape(-1, 1)], axis=1)\n",
    "\n",
    "preprocessor = ColumnTransformer(\n",
    "    transformers=[\n",
    "        ('num', StandardScaler(), ['N', 'P', 'K', 'pH', 'Moisture', 'Temperature'])\n",
    "    ]\n",
    ")\n",
    "\n",
    "\n",
    "model = Pipeline(steps=[\n",
    "    ('preprocessor', preprocessor),\n",
    "    ('regressor', MultiOutputRegressor(RandomForestRegressor(n_estimators=10, n_jobs=-1)))\n",
    "])\n",
    "\n",
    "\n",
    "X_train, X_test, y_train, y_test = train_test_split(X, y_combined, test_size=0.2, random_state=42)\n",
    "\n",
    "\n",
    "model.fit(X_train, y_train)\n",
    "\n",
    "\n",
    "joblib.dump(model, 'soil_model.pkl')\n",
    "joblib.dump(crop_encoder, 'crop_encoder.pkl')\n",
    "joblib.dump(fertilizer_encoder, 'fertilizer_encoder.pkl')\n"
   ]
  }
 ],
 "metadata": {
  "kernelspec": {
   "display_name": "base",
   "language": "python",
   "name": "python3"
  },
  "language_info": {
   "codemirror_mode": {
    "name": "ipython",
    "version": 3
   },
   "file_extension": ".py",
   "mimetype": "text/x-python",
   "name": "python",
   "nbconvert_exporter": "python",
   "pygments_lexer": "ipython3",
   "version": "3.11.5"
  }
 },
 "nbformat": 4,
 "nbformat_minor": 2
}
