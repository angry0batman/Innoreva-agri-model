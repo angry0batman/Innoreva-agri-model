{
 "cells": [
  {
   "cell_type": "code",
   "execution_count": 3,
   "metadata": {},
   "outputs": [
    {
     "data": {
      "text/plain": [
       "['soil_model.pkl']"
      ]
     },
     "execution_count": 3,
     "metadata": {},
     "output_type": "execute_result"
    }
   ],
   "source": [
    "import pandas as pd\n",
    "from sklearn.model_selection import train_test_split\n",
    "from sklearn.compose import ColumnTransformer\n",
    "from sklearn.pipeline import Pipeline\n",
    "from sklearn.preprocessing import StandardScaler, OneHotEncoder\n",
    "from sklearn.multioutput import MultiOutputRegressor\n",
    "from sklearn.ensemble import RandomForestRegressor\n",
    "\n",
    "\n",
    "df = pd.read_csv('soil_data.csv')\n",
    "\n",
    "\n",
    "X = df[['N', 'P', 'K', 'pH', 'Moisture', 'Temperature']]\n",
    "y_crop = df['Recommended Crop']\n",
    "y_fertilizer = df['Recommended Fertilizer & Quantity']\n",
    "y_yield = df['Predicted Yield']\n",
    "\n",
    "\n",
    "preprocessor = ColumnTransformer(\n",
    "    transformers=[\n",
    "        ('num', StandardScaler(), ['N', 'P', 'K', 'pH', 'Moisture', 'Temperature'])\n",
    "    ]\n",
    ")\n",
    "\n",
    "\n",
    "model = Pipeline(steps=[\n",
    "    ('preprocessor', preprocessor),\n",
    "    ('regressor', MultiOutputRegressor(RandomForestRegressor()))\n",
    "])\n",
    "\n",
    "\n",
    "y_crop_encoded = pd.get_dummies(y_crop)\n",
    "y_fertilizer_encoded = pd.get_dummies(y_fertilizer)\n",
    "\n",
    "\n",
    "y_combined = pd.concat([y_crop_encoded, y_fertilizer_encoded, y_yield], axis=1)\n",
    "\n",
    "\n",
    "X_train, X_test, y_train, y_test = train_test_split(X, y_combined, test_size=0.2, random_state=42)\n",
    "\n",
    "\n",
    "model.fit(X_train, y_train)\n",
    "\n",
    "\n",
    "predictions = model.predict(X_test)\n",
    "\n",
    "\n",
    "import joblib\n",
    "joblib.dump(model, 'soil_model.pkl')\n"
   ]
  }
 ],
 "metadata": {
  "kernelspec": {
   "display_name": "base",
   "language": "python",
   "name": "python3"
  },
  "language_info": {
   "codemirror_mode": {
    "name": "ipython",
    "version": 3
   },
   "file_extension": ".py",
   "mimetype": "text/x-python",
   "name": "python",
   "nbconvert_exporter": "python",
   "pygments_lexer": "ipython3",
   "version": "3.11.5"
  }
 },
 "nbformat": 4,
 "nbformat_minor": 2
}
